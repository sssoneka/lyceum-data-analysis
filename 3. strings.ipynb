{
 "cells": [
  {
   "cell_type": "markdown",
   "metadata": {},
   "source": [
    "### Строки "
   ]
  },
  {
   "cell_type": "markdown",
   "metadata": {},
   "source": [
    "### Что такое строка"
   ]
  },
  {
   "cell_type": "markdown",
   "metadata": {},
   "source": [
    "Строка -- это частный случай последоватьностей в Python, представитель группы `Flat sequences`. То есть, строка -- это последовательность, каждый элемент в которой представляет лишь один тип. Можно сказать, что строка -- это последовательность символов.\n",
    "\n",
    "Также строка -- одна из неизменяемых последовательностей (immutable sequences). Это значит, что мы не можем ее изменить после создания"
   ]
  },
  {
   "cell_type": "code",
   "execution_count": 30,
   "metadata": {},
   "outputs": [],
   "source": [
    "example_str = 'example_str'"
   ]
  },
  {
   "cell_type": "markdown",
   "metadata": {
    "id": "OTGY3U0NXahb"
   },
   "source": [
    "Строки можно сохранять в переменные и выполнять над ними некоторые операции."
   ]
  },
  {
   "cell_type": "code",
   "execution_count": 126,
   "metadata": {
    "id": "Amw_1yEzXahc",
    "outputId": "bac69506-e19c-4f01-8e01-6e9eb73f7c7e"
   },
   "outputs": [
    {
     "name": "stdout",
     "output_type": "stream",
     "text": [
      "What is your name?\n"
     ]
    },
    {
     "name": "stdout",
     "output_type": "stream",
     "text": [
      " Denis\n"
     ]
    },
    {
     "name": "stdout",
     "output_type": "stream",
     "text": [
      "Hello,Denis\n"
     ]
    }
   ],
   "source": [
    "print(\"What is your name?\")\n",
    "name = input()\n",
    "print(\"Hello,\" + name)"
   ]
  },
  {
   "cell_type": "markdown",
   "metadata": {
    "id": "jkj44nDKih43"
   },
   "source": [
    "Функция **len()** возвращает длину строки-параметра"
   ]
  },
  {
   "cell_type": "code",
   "execution_count": null,
   "metadata": {
    "id": "a5XuXJN1ih44",
    "outputId": "ec79729e-861c-407c-f9fb-41d451139759"
   },
   "outputs": [
    {
     "name": "stdout",
     "output_type": "stream",
     "text": [
      "hello\n",
      "5\n"
     ]
    }
   ],
   "source": [
    "s = input()\n",
    "print(len(s))"
   ]
  },
  {
   "cell_type": "markdown",
   "metadata": {
    "id": "tO7OSmduXahc"
   },
   "source": [
    "### Слайсы на примере строк"
   ]
  },
  {
   "cell_type": "markdown",
   "metadata": {},
   "source": [
    "#### Немного общей информации"
   ]
  },
  {
   "cell_type": "markdown",
   "metadata": {},
   "source": [
    "Мощь Python в том, что для многих схожих классов у нас есть общее множество поддерживаемых операций. Например, strings, lists, byte sequences, arrays и др. поддерживают iteration, slicing, sorting, contactenation и прочие общие операции."
   ]
  },
  {
   "cell_type": "markdown",
   "metadata": {},
   "source": [
    "#### Slicing (срезы, слайсы)"
   ]
  },
  {
   "cell_type": "markdown",
   "metadata": {},
   "source": [
    "**Slicing** -- это общая фича всех последовательностей в Python. Ниже мы рассмотрим ее на примере строк, но помните, что это относится и к другим последовательностям"
   ]
  },
  {
   "cell_type": "markdown",
   "metadata": {},
   "source": [
    "`sequence[start:stop:step]`"
   ]
  },
  {
   "cell_type": "markdown",
   "metadata": {
    "id": "XrLP3Nz7Xahc"
   },
   "source": [
    "Срезы нужны для того, чтобы извлечь подстроки или символы из исходной строки. Таким образом, создаётся новая строка, а исходная остается неизменённой."
   ]
  },
  {
   "cell_type": "markdown",
   "metadata": {},
   "source": [
    "#### Basics"
   ]
  },
  {
   "cell_type": "markdown",
   "metadata": {
    "id": "97VkXV5HXahc"
   },
   "source": [
    "Чтобы обратиться к символу строки, используются две нумерации: неотрицательными и отрицательными числами."
   ]
  },
  {
   "cell_type": "markdown",
   "metadata": {
    "id": "Tx3nFXYaXahc"
   },
   "source": [
    "![alternate text](https://pp.userapi.com/c837320/v837320502/59b9f/c4cTcRUnMWg.jpg)"
   ]
  },
  {
   "cell_type": "markdown",
   "metadata": {
    "id": "x7-PdBfkXahd"
   },
   "source": [
    "Нумерация неотрицательными числами начинается с 0 и идет слева направо. То есть чтобы получить первый символ строки s, нужно написать s[0], второй символ – s[1], и т.д."
   ]
  },
  {
   "cell_type": "markdown",
   "metadata": {
    "id": "Voi41XZDXahd"
   },
   "source": [
    "Нумерация отрицательными числами начинается с -1 и также идет слева направо (справа налево, если смотреть на модуль числа). То есть чтобы получить последний символ строки s, нужно написать s[-1], предпоследний символ – s[-2], и т.д."
   ]
  },
  {
   "cell_type": "code",
   "execution_count": 143,
   "metadata": {
    "id": "fy2k2cfnXahd",
    "outputId": "8dd25f55-abd1-4d04-fa7f-2fb6896b13b2"
   },
   "outputs": [
    {
     "name": "stdout",
     "output_type": "stream",
     "text": [
      "12\n",
      "H\n",
      "!\n"
     ]
    }
   ],
   "source": [
    "# Например\n",
    "s = \"Hello world!\"  # создали переменную s со содержимым “Hello world!”\n",
    "print(len(s))\n",
    "print(s[0])  # печатает первый символ строки\n",
    "print(s[-1])  # печатает последний символ строки\n",
    "# print(s[15])  # выдаст ошибку, так как должна напечатать 16-ый элемент строки, а длина строки s меньше 16 символов"
   ]
  },
  {
   "cell_type": "markdown",
   "metadata": {
    "id": "lhLsG_9WXahe"
   },
   "source": [
    "Следующий вид срезов – с двумя параметрами, между которыми ставится двоеточие. Если нужно получить подстроку строки s с __i__ по __j__ символы включительно, то нужно применить срез __s[i: j+1]__."
   ]
  },
  {
   "cell_type": "markdown",
   "metadata": {},
   "source": [
    "Правая граница не включается"
   ]
  },
  {
   "cell_type": "code",
   "execution_count": 9,
   "metadata": {},
   "outputs": [],
   "source": [
    "my_seq = '123456789'"
   ]
  },
  {
   "cell_type": "markdown",
   "metadata": {},
   "source": [
    "#### Step"
   ]
  },
  {
   "cell_type": "code",
   "execution_count": 11,
   "metadata": {},
   "outputs": [
    {
     "data": {
      "text/plain": [
       "'147'"
      ]
     },
     "execution_count": 11,
     "metadata": {},
     "output_type": "execute_result"
    }
   ],
   "source": [
    "my_seq[0:-1:3]"
   ]
  },
  {
   "cell_type": "code",
   "execution_count": 157,
   "metadata": {},
   "outputs": [
    {
     "data": {
      "text/plain": [
       "'12345678'"
      ]
     },
     "execution_count": 157,
     "metadata": {},
     "output_type": "execute_result"
    }
   ],
   "source": [
    "my_seq[:-1]"
   ]
  },
  {
   "cell_type": "markdown",
   "metadata": {},
   "source": [
    "А как можно развернуть строчку?"
   ]
  },
  {
   "cell_type": "code",
   "execution_count": 158,
   "metadata": {},
   "outputs": [
    {
     "data": {
      "text/plain": [
       "'987654321'"
      ]
     },
     "execution_count": 158,
     "metadata": {},
     "output_type": "execute_result"
    }
   ],
   "source": [
    "my_seq[::-1]"
   ]
  },
  {
   "cell_type": "markdown",
   "metadata": {
    "id": "1s-Zqbl-Xahj"
   },
   "source": [
    "### Дополнительные функции и методы строк"
   ]
  },
  {
   "cell_type": "markdown",
   "metadata": {
    "id": "TutEm3PoXahj",
    "outputId": "fd10b271-6544-47d4-e09b-2f2eef818fce"
   },
   "source": [
    "*Поиск подстроки в строке. Возвращает номер первого вхождения или -1*\n",
    "\n",
    "    s.find(str, [start],[end])\n",
    "    \n",
    "*Поиск подстроки в строке. Возвращает номер последнего вхождения или -1*\n",
    "\n",
    "    s.rfind(str, [start],[end]\n",
    "\n",
    "*Поиск подстроки в строке. Возвращает номер первого вхождения или вызывает ValueError*\n",
    "\n",
    "    s.index(str, [start],[end])\n",
    "\n",
    "*Поиск подстроки в строке. Возвращает номер последнего вхождения или вызывает ValueError*\n",
    "\n",
    "    s.rindex(str, [start],[end])\n",
    "    \n",
    "*Замена шаблона*\n",
    "\n",
    "    s.replace(шаблон, замена)\n",
    "    \n",
    "*Разбиение строки по разделителю*\n",
    "\n",
    "    s.split(символ)\n",
    "    \n",
    "*Состоит ли строка из цифр*\n",
    "\n",
    "    s.isdigit()\n",
    "    \n",
    "*Состоит ли строка из букв*\n",
    "\n",
    "    s.isalpha()"
   ]
  },
  {
   "cell_type": "markdown",
   "metadata": {
    "id": "6t7GW8OTXahj",
    "jupyter": {
     "outputs_hidden": true
    }
   },
   "source": [
    "*Состоит ли строка из цифр или букв*\n",
    "\n",
    "    s.isalnum()\n",
    "\n",
    "*Состоит ли строка из символов в нижнем регистре*\n",
    "\n",
    "    s.islower()\n",
    "    \n",
    "\n",
    "*Состоит ли строка из символов в верхнем регистре*\n",
    "    \n",
    "    s.isupper()\n",
    "\n",
    "*Состоит ли строка из неотображаемых символов (пробел, символ перевода страницы ('\\f'), \"новая строка\" ('\\n'), \"перевод каретки\" ('\\r'), \"горизонтальная табуляция\" ('\\t') и \"вертикальная табуляция\" ('\\v'))*\n",
    "    \n",
    "    s.isspace()\n",
    "\n",
    "*Начинаются ли слова в строке с заглавной буквы*\n",
    "\n",
    "    s.istitle()\n",
    "\n",
    "*Преобразование строки к верхнему регистру*\n",
    "    \n",
    "    s.upper()\n",
    "\n",
    "*Преобразование строки к нижнему регистру*\n",
    "    \n",
    "    s.lower()\n",
    "\n",
    "*Начинается ли строка S с шаблона str*\n",
    "    \n",
    "    s.startswith(str)\n",
    "\n",
    "*Переводит символы нижнего регистра в верхний, а верхнего – в нижний*\n",
    "    \n",
    "    s.swapcase()"
   ]
  },
  {
   "cell_type": "markdown",
   "metadata": {
    "id": "6t7GW8OTXahj",
    "jupyter": {
     "outputs_hidden": true
    }
   },
   "source": [
    "*Возвращает количество непересекающихся вхождений подстроки в диапазоне [начало, конец] (0 и длина строки по умолчанию)*\n",
    "\n",
    "    s.count(str, [start],[end])\n",
    "\n",
    "\n",
    "*Удаление пробельных символов в начале строки*\n",
    "\n",
    "    s.lstrip([chars])\n",
    "\n",
    "*Удаление пробельных символов в конце строки*\n",
    "\n",
    "    s.rstrip([chars])\n",
    "\n",
    "*Удаление пробельных символов в начале и в конце строки*\n",
    "\n",
    "    s.strip([chars])\n",
    "\n",
    "*Первую букву каждого слова переводит в верхний регистр, а все остальные в нижний*\n",
    "    \n",
    "    s.title()"
   ]
  },
  {
   "cell_type": "markdown",
   "metadata": {},
   "source": [
    "Дана строка. Замените в этой строке все цифры 1 на слово one.\n",
    "\n",
    "Формат ввода\\\n",
    "Вводится строка.\n",
    "\n",
    "Формат вывода\\\n",
    "Выведите ответ на задачу."
   ]
  },
  {
   "cell_type": "markdown",
   "metadata": {},
   "source": [
    "Пример 1\\\n",
    "Ввод\\\n",
    "1+1=2\\\n",
    "Вывод\\\n",
    "one+one=2"
   ]
  },
  {
   "cell_type": "code",
   "execution_count": 12,
   "metadata": {},
   "outputs": [
    {
     "name": "stdout",
     "output_type": "stream",
     "text": [
      "one+one=2\n"
     ]
    }
   ],
   "source": [
    "s = input()\n",
    "print(s.replace(\"1\", \"one\"))"
   ]
  },
  {
   "cell_type": "markdown",
   "metadata": {
    "id": "5BdzMAV4ih5I"
   },
   "source": [
    "### Метод split()"
   ]
  },
  {
   "cell_type": "markdown",
   "metadata": {
    "id": "dBWTdCzBih5K"
   },
   "source": [
    "Метод `split()` разделяет строку на подстроки по указанному разделителю и выдает на выходе другую (уже изменяемую!) последовательность -- `list`"
   ]
  },
  {
   "cell_type": "code",
   "execution_count": 4,
   "metadata": {
    "id": "2jylZN-7ih5L",
    "outputId": "f8fd701f-663a-4239-e0d4-01552772595f"
   },
   "outputs": [
    {
     "data": {
      "text/plain": [
       "['mother', ' father', ' sister', ' brother']"
      ]
     },
     "execution_count": 4,
     "metadata": {},
     "output_type": "execute_result"
    }
   ],
   "source": [
    "s = \"mother, father, sister, brother\"\n",
    "s.split(\",\")"
   ]
  },
  {
   "cell_type": "code",
   "execution_count": 13,
   "metadata": {},
   "outputs": [
    {
     "data": {
      "text/plain": [
       "['mothe', ', fathe', ', siste', ', b', 'othe', '']"
      ]
     },
     "execution_count": 13,
     "metadata": {},
     "output_type": "execute_result"
    }
   ],
   "source": [
    "s = \"mother, father, sister, brother\"\n",
    "s.split(\"r\")"
   ]
  },
  {
   "cell_type": "markdown",
   "metadata": {
    "id": "NccVqoytih5S"
   },
   "source": [
    "Если разделитель не указан, что строка разделяется по любому whitespace символу"
   ]
  },
  {
   "cell_type": "code",
   "execution_count": 5,
   "metadata": {
    "id": "i-J5DZXPih5U",
    "outputId": "39a229a0-26b1-468d-f697-f2415456ddff"
   },
   "outputs": [
    {
     "data": {
      "text/plain": [
       "['mother', 'father', 'sister', 'brother', 'me']"
      ]
     },
     "execution_count": 5,
     "metadata": {},
     "output_type": "execute_result"
    }
   ],
   "source": [
    "s = \"mother father sister brother   me\"\n",
    "s.split()"
   ]
  },
  {
   "cell_type": "markdown",
   "metadata": {},
   "source": [
    "### Условные операторы (`if, elif, else`)"
   ]
  },
  {
   "cell_type": "markdown",
   "metadata": {},
   "source": [
    "Условные операторы позволяют выполнять разные действия в зависимости от условий."
   ]
  },
  {
   "cell_type": "code",
   "execution_count": null,
   "metadata": {},
   "outputs": [],
   "source": [
    "if (condition1):\n",
    "    # код, который выполнится, если условие истинно (True)\n",
    "elif condition2:\n",
    "    # код, если первое условие ложно, но второе истинно\n",
    "else:\n",
    "    # код, если все условия ложны\n"
   ]
  },
  {
   "cell_type": "code",
   "execution_count": null,
   "metadata": {},
   "outputs": [],
   "source": [
    "age = 18\n",
    "\n",
    "if age < 18:\n",
    "    print(\"Ты еще несовершеннолетний.\")\n",
    "elif age == 18:\n",
    "    print(\"Тебе ровно 18 лет!\")\n",
    "else:\n",
    "    print(\"Ты уже взрослый.\")"
   ]
  },
  {
   "cell_type": "markdown",
   "metadata": {},
   "source": [
    "### Цикл for"
   ]
  },
  {
   "cell_type": "markdown",
   "metadata": {},
   "source": [
    "Цикл for используется, когда нужно пройтись по каждому элементу в последовательности (списке, строке, диапазоне и т.д.)"
   ]
  },
  {
   "cell_type": "code",
   "execution_count": null,
   "metadata": {},
   "outputs": [],
   "source": [
    "for переменная in последовательность:\n",
    "    # код, который выполняется для каждого элемента"
   ]
  },
  {
   "cell_type": "code",
   "execution_count": 6,
   "metadata": {},
   "outputs": [
    {
     "name": "stdout",
     "output_type": "stream",
     "text": [
      "q\n",
      "w\n",
      "e\n",
      "r\n",
      "t\n",
      "y\n"
     ]
    }
   ],
   "source": [
    "for i in \"qwerty\":\n",
    "    print(i)"
   ]
  },
  {
   "cell_type": "markdown",
   "metadata": {},
   "source": [
    "### Range"
   ]
  },
  {
   "cell_type": "markdown",
   "metadata": {},
   "source": [
    "range() function generates the immutable sequence (of type rage) of numbers starting from the given start integer to the stop integer\n",
    "\n",
    "`range(start, stop, step)`"
   ]
  },
  {
   "cell_type": "code",
   "execution_count": 8,
   "metadata": {},
   "outputs": [
    {
     "data": {
      "text/plain": [
       "range(0, 10)"
      ]
     },
     "execution_count": 8,
     "metadata": {},
     "output_type": "execute_result"
    }
   ],
   "source": [
    "range(10)"
   ]
  },
  {
   "cell_type": "markdown",
   "metadata": {},
   "source": [
    "### Цикл while\n",
    "\n",
    "Цикл while выполняет блок кода пока условие истинно (True)."
   ]
  },
  {
   "cell_type": "code",
   "execution_count": null,
   "metadata": {},
   "outputs": [],
   "source": [
    "while условие:\n",
    "    # код, который выполняется, пока условие истинно\n"
   ]
  },
  {
   "cell_type": "code",
   "execution_count": 7,
   "metadata": {},
   "outputs": [
    {
     "name": "stdout",
     "output_type": "stream",
     "text": [
      "Счетчик: 0\n",
      "Счетчик: 1\n",
      "Счетчик: 2\n"
     ]
    }
   ],
   "source": [
    "count = 0\n",
    "\n",
    "while count < 3:\n",
    "    print(\"Счетчик:\", count)\n",
    "    count += 1  # увеличиваем значение, иначе цикл будет бесконечным\n"
   ]
  }
 ],
 "metadata": {
  "colab": {
   "name": "строки.ipynb",
   "provenance": []
  },
  "kernelspec": {
   "display_name": "Python 3",
   "language": "python",
   "name": "python3"
  },
  "language_info": {
   "codemirror_mode": {
    "name": "ipython",
    "version": 3
   },
   "file_extension": ".py",
   "mimetype": "text/x-python",
   "name": "python",
   "nbconvert_exporter": "python",
   "pygments_lexer": "ipython3",
   "version": "3.11.5"
  },
  "latex_envs": {
   "LaTeX_envs_menu_present": true,
   "autoclose": false,
   "autocomplete": true,
   "bibliofile": "biblio.bib",
   "cite_by": "apalike",
   "current_citInitial": 1,
   "eqLabelWithNumbers": true,
   "eqNumInitial": 1,
   "hotkeys": {
    "equation": "Ctrl-E",
    "itemize": "Ctrl-I"
   },
   "labels_anchors": false,
   "latex_user_defs": false,
   "report_style_numbering": false,
   "user_envs_cfg": false
  },
  "toc": {
   "base_numbering": 1,
   "nav_menu": {},
   "number_sections": true,
   "sideBar": true,
   "skip_h1_title": false,
   "title_cell": "Table of Contents",
   "title_sidebar": "Contents",
   "toc_cell": false,
   "toc_position": {},
   "toc_section_display": true,
   "toc_window_display": true
  },
  "toc-autonumbering": false,
  "varInspector": {
   "cols": {
    "lenName": 16,
    "lenType": 16,
    "lenVar": 40
   },
   "kernels_config": {
    "python": {
     "delete_cmd_postfix": "",
     "delete_cmd_prefix": "del ",
     "library": "var_list.py",
     "varRefreshCmd": "print(var_dic_list())"
    },
    "r": {
     "delete_cmd_postfix": ") ",
     "delete_cmd_prefix": "rm(",
     "library": "var_list.r",
     "varRefreshCmd": "cat(var_dic_list()) "
    }
   },
   "types_to_exclude": [
    "module",
    "function",
    "builtin_function_or_method",
    "instance",
    "_Feature"
   ],
   "window_display": false
  }
 },
 "nbformat": 4,
 "nbformat_minor": 4
}

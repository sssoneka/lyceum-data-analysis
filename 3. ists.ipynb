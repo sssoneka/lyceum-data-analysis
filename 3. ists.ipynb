{
 "cells": [
  {
   "cell_type": "markdown",
   "id": "3add9acb-ddd2-4bb4-8848-ee82668de51f",
   "metadata": {},
   "source": [
    "## List"
   ]
  },
  {
   "cell_type": "markdown",
   "id": "001af72d-7831-4b54-bd7f-40728c69dcf9",
   "metadata": {},
   "source": [
    "Most fundamental sequence, mutable and mixed-type"
   ]
  },
  {
   "cell_type": "code",
   "execution_count": 1,
   "id": "56851000-5cd5-4861-80aa-7774ca1b03a3",
   "metadata": {
    "tags": []
   },
   "outputs": [],
   "source": [
    "a = [1, 2, 3]\n",
    "b = ['1', [2], 3, 4.0]"
   ]
  },
  {
   "cell_type": "markdown",
   "id": "199c09cd-0ca2-429b-981d-96f59be8a57f",
   "metadata": {},
   "source": [
    "### Базовые операции"
   ]
  },
  {
   "cell_type": "code",
   "execution_count": 2,
   "id": "8bdbc9c9-b5e7-43bd-a337-a124ee1b122f",
   "metadata": {
    "tags": []
   },
   "outputs": [
    {
     "data": {
      "text/plain": [
       "[1, 2, 3, '1', [2], 3, 4.0]"
      ]
     },
     "execution_count": 2,
     "metadata": {},
     "output_type": "execute_result"
    }
   ],
   "source": [
    "a + b"
   ]
  },
  {
   "cell_type": "code",
   "execution_count": 3,
   "id": "ac272a43-7c69-4ec5-9f31-7562e0dc41e5",
   "metadata": {
    "tags": []
   },
   "outputs": [
    {
     "data": {
      "text/plain": [
       "[1, 2, 3, 1, 2, 3, 1, 2, 3]"
      ]
     },
     "execution_count": 3,
     "metadata": {},
     "output_type": "execute_result"
    }
   ],
   "source": [
    "a * 3"
   ]
  },
  {
   "cell_type": "code",
   "execution_count": 4,
   "id": "02381b7d-8c79-44f7-a619-d9757baafedd",
   "metadata": {},
   "outputs": [],
   "source": [
    "a = [1]"
   ]
  },
  {
   "cell_type": "code",
   "execution_count": 5,
   "id": "3ba08151-d09d-410d-a006-67fb8cbed7bb",
   "metadata": {},
   "outputs": [],
   "source": [
    "a *= 3"
   ]
  },
  {
   "cell_type": "code",
   "execution_count": 314,
   "id": "b7009953-e7e7-4964-83d3-acc8debbc56b",
   "metadata": {},
   "outputs": [],
   "source": [
    "a[0] = 1337"
   ]
  },
  {
   "cell_type": "code",
   "execution_count": 10,
   "id": "708deb2a-1232-4c4b-9ef6-163c087ea7fd",
   "metadata": {},
   "outputs": [],
   "source": [
    "a = [[1]]"
   ]
  },
  {
   "cell_type": "code",
   "execution_count": 11,
   "id": "360128a8-f0ea-4047-b5f5-af8918893ac5",
   "metadata": {},
   "outputs": [
    {
     "data": {
      "text/plain": [
       "[[1], [1], [1]]"
      ]
     },
     "execution_count": 11,
     "metadata": {},
     "output_type": "execute_result"
    }
   ],
   "source": [
    "a *= 3\n",
    "a"
   ]
  },
  {
   "cell_type": "code",
   "execution_count": 12,
   "id": "018fb324-925b-4314-ad75-1539553ef850",
   "metadata": {},
   "outputs": [],
   "source": [
    "a[0].append(2)"
   ]
  },
  {
   "cell_type": "code",
   "execution_count": 13,
   "id": "3b2c04fb-07ba-4882-91ae-bc779d971f65",
   "metadata": {},
   "outputs": [
    {
     "data": {
      "text/plain": [
       "[[1, 2], [1, 2], [1, 2]]"
      ]
     },
     "execution_count": 13,
     "metadata": {},
     "output_type": "execute_result"
    }
   ],
   "source": [
    "a"
   ]
  },
  {
   "cell_type": "markdown",
   "id": "17dbd3d5-02e4-4c3b-bb17-40c9529caabc",
   "metadata": {},
   "source": [
    "`Слайсы!`"
   ]
  },
  {
   "cell_type": "code",
   "execution_count": 323,
   "id": "6ae5aa57-0197-430b-885a-fc7d4b56ac7e",
   "metadata": {
    "tags": []
   },
   "outputs": [
    {
     "data": {
      "text/plain": [
       "[4.0, 3, [2], '1']"
      ]
     },
     "execution_count": 323,
     "metadata": {},
     "output_type": "execute_result"
    }
   ],
   "source": [
    "b[::-1]"
   ]
  },
  {
   "cell_type": "markdown",
   "id": "9db366a9-9b07-47ed-a410-31c17dd6e652",
   "metadata": {},
   "source": [
    "Поддержка операций `in (not in), min, max, index (поиск), count`"
   ]
  },
  {
   "cell_type": "code",
   "execution_count": 327,
   "id": "b6d89753-142f-4a83-8432-f8d79842bef6",
   "metadata": {},
   "outputs": [],
   "source": [
    "a = [1, 2, 3]\n",
    "b = ['1', [2], 3, 4.]"
   ]
  },
  {
   "cell_type": "code",
   "execution_count": 328,
   "id": "166bf0db-7697-4077-81a2-eb797bc31309",
   "metadata": {
    "tags": []
   },
   "outputs": [
    {
     "data": {
      "text/plain": [
       "True"
      ]
     },
     "execution_count": 328,
     "metadata": {},
     "output_type": "execute_result"
    }
   ],
   "source": [
    "'1' not in a"
   ]
  },
  {
   "cell_type": "code",
   "execution_count": 329,
   "id": "dbf14a4e-038d-4900-9bac-7d61994cc4ca",
   "metadata": {
    "tags": []
   },
   "outputs": [
    {
     "data": {
      "text/plain": [
       "True"
      ]
     },
     "execution_count": 329,
     "metadata": {},
     "output_type": "execute_result"
    }
   ],
   "source": [
    "'1' in a + b"
   ]
  },
  {
   "cell_type": "code",
   "execution_count": 339,
   "id": "8d7066f2-e87e-4b7e-96c8-82c9125fc41e",
   "metadata": {
    "tags": []
   },
   "outputs": [
    {
     "data": {
      "text/plain": [
       "(1, 0)"
      ]
     },
     "execution_count": 339,
     "metadata": {},
     "output_type": "execute_result"
    }
   ],
   "source": [
    "a.count(1), a.count(4)"
   ]
  },
  {
   "cell_type": "markdown",
   "id": "d3e9fe1b-88d6-423f-b031-67966dda6b7a",
   "metadata": {},
   "source": [
    "И, конечно же, уже знакомые нам"
   ]
  },
  {
   "cell_type": "code",
   "execution_count": 15,
   "id": "918ae989-f288-4048-9d82-b82de5f77280",
   "metadata": {
    "tags": []
   },
   "outputs": [
    {
     "data": {
      "text/plain": [
       "(3, 4)"
      ]
     },
     "execution_count": 15,
     "metadata": {},
     "output_type": "execute_result"
    }
   ],
   "source": [
    "len(a), len(b)"
   ]
  },
  {
   "cell_type": "markdown",
   "id": "103df298-e022-4962-9e73-63787c4f5af4",
   "metadata": {},
   "source": [
    "**Inplace** изменения в список"
   ]
  },
  {
   "cell_type": "code",
   "execution_count": 16,
   "id": "01b2e371-2382-448f-8993-0d70e8ce6c15",
   "metadata": {
    "tags": []
   },
   "outputs": [
    {
     "data": {
      "text/plain": [
       "[[1, 2], [1, 2], [1, 2], 4]"
      ]
     },
     "execution_count": 16,
     "metadata": {},
     "output_type": "execute_result"
    }
   ],
   "source": [
    "a.append(4)\n",
    "a"
   ]
  },
  {
   "cell_type": "code",
   "execution_count": 17,
   "id": "d6d22048-4bae-4126-9602-095c705983f3",
   "metadata": {
    "tags": []
   },
   "outputs": [
    {
     "data": {
      "text/plain": [
       "[[1, 2], [1, 2], [1, 2], 4, '1', [2], 3, 4.0]"
      ]
     },
     "execution_count": 17,
     "metadata": {},
     "output_type": "execute_result"
    }
   ],
   "source": [
    "a.extend(b)\n",
    "a"
   ]
  },
  {
   "cell_type": "code",
   "execution_count": 18,
   "id": "865192ce-af08-4f66-a2a1-1c4578037dae",
   "metadata": {
    "tags": []
   },
   "outputs": [
    {
     "data": {
      "text/plain": [
       "[[1, 2], [1, 2], [1, 2], 4, '1', [2], 4.0]"
      ]
     },
     "execution_count": 18,
     "metadata": {},
     "output_type": "execute_result"
    }
   ],
   "source": [
    "a.remove(3)\n",
    "a"
   ]
  },
  {
   "cell_type": "code",
   "execution_count": 19,
   "id": "8773b2d8-76b1-423b-8bd5-40922a1cc204",
   "metadata": {
    "tags": []
   },
   "outputs": [
    {
     "data": {
      "text/plain": [
       "[100, [1, 2], [1, 2], 4, '1', [2], 4.0]"
      ]
     },
     "execution_count": 19,
     "metadata": {},
     "output_type": "execute_result"
    }
   ],
   "source": [
    "a[0] = 100\n",
    "a"
   ]
  },
  {
   "cell_type": "markdown",
   "id": "ba2078f8-ad04-4109-a8ef-bc4d3c40a331",
   "metadata": {},
   "source": [
    "### Iterating"
   ]
  },
  {
   "cell_type": "code",
   "execution_count": 21,
   "id": "8e641442",
   "metadata": {},
   "outputs": [
    {
     "name": "stdout",
     "output_type": "stream",
     "text": [
      "['1', [2], 3, 4.0]\n"
     ]
    }
   ],
   "source": [
    "print(b)"
   ]
  },
  {
   "cell_type": "code",
   "execution_count": 20,
   "id": "25231680-5481-434d-87a3-6d6b3ee3b111",
   "metadata": {
    "tags": []
   },
   "outputs": [
    {
     "name": "stdout",
     "output_type": "stream",
     "text": [
      "1\n",
      "[2]\n",
      "3\n",
      "4.0\n"
     ]
    }
   ],
   "source": [
    "for element in b:\n",
    "    print(element)"
   ]
  },
  {
   "cell_type": "markdown",
   "id": "1b6067ce-47f7-44ba-93e2-9dc85a930928",
   "metadata": {},
   "source": [
    "Можно итерироваться по нескольким сразу"
   ]
  },
  {
   "cell_type": "code",
   "execution_count": 352,
   "id": "5cd1adfd-36bd-4d67-8daa-b2690d26ee02",
   "metadata": {
    "tags": []
   },
   "outputs": [
    {
     "name": "stdout",
     "output_type": "stream",
     "text": [
      "1 10\n",
      "2 20\n",
      "3 30\n"
     ]
    }
   ],
   "source": [
    "c = [1, 2, 3]\n",
    "d = [10, 20, 30, 40]\n",
    "\n",
    "for val_one, val_two in zip(c, d):\n",
    "    print(val_one, val_two)"
   ]
  },
  {
   "cell_type": "markdown",
   "id": "2e7612a9-43f7-4615-b1b8-56290724cc71",
   "metadata": {},
   "source": [
    "По значению и индексу"
   ]
  },
  {
   "cell_type": "code",
   "execution_count": 353,
   "id": "24a01b10-c3c8-46ce-ab47-644cb5e9050b",
   "metadata": {
    "tags": []
   },
   "outputs": [
    {
     "name": "stdout",
     "output_type": "stream",
     "text": [
      "0 1\n",
      "1 2\n"
     ]
    }
   ],
   "source": [
    "for index, elem in enumerate(b, start=0):\n",
    "    print(index, elem)"
   ]
  },
  {
   "cell_type": "markdown",
   "id": "1bc92f77-4254-47c3-8275-cfc2bcc43328",
   "metadata": {},
   "source": [
    "### Сортировка"
   ]
  },
  {
   "cell_type": "code",
   "execution_count": 22,
   "id": "5bff5b34-2e02-449a-a3fe-f350a63850f8",
   "metadata": {
    "tags": []
   },
   "outputs": [],
   "source": [
    "a = [1, 2, 5, 4, 10, -5]\n",
    "a.sort()"
   ]
  },
  {
   "cell_type": "code",
   "execution_count": 23,
   "id": "3687a961",
   "metadata": {},
   "outputs": [
    {
     "data": {
      "text/plain": [
       "[-5, 1, 2, 4, 5, 10]"
      ]
     },
     "execution_count": 23,
     "metadata": {},
     "output_type": "execute_result"
    }
   ],
   "source": [
    "a"
   ]
  },
  {
   "cell_type": "code",
   "execution_count": 24,
   "id": "25f3bea9",
   "metadata": {},
   "outputs": [],
   "source": [
    "a = [1, 2, 5, 4, 10, -5]"
   ]
  },
  {
   "cell_type": "code",
   "execution_count": 25,
   "id": "41671280-4f0e-4c91-99f3-03cb8421ca7d",
   "metadata": {
    "tags": []
   },
   "outputs": [
    {
     "data": {
      "text/plain": [
       "[-5, 1, 2, 4, 5, 10]"
      ]
     },
     "execution_count": 25,
     "metadata": {},
     "output_type": "execute_result"
    }
   ],
   "source": [
    "sorted(a)"
   ]
  },
  {
   "cell_type": "code",
   "execution_count": 361,
   "id": "97741d13-b033-49fe-92ee-5207ad027cc1",
   "metadata": {},
   "outputs": [
    {
     "data": {
      "text/plain": [
       "['3', 'a', 'seminar']"
      ]
     },
     "execution_count": 361,
     "metadata": {},
     "output_type": "execute_result"
    }
   ],
   "source": [
    "str_a = ['3', 'a', 'seminar']\n",
    "sorted(str_a)"
   ]
  },
  {
   "cell_type": "markdown",
   "id": "00de86d3-49be-4497-b43a-ec90ef532f19",
   "metadata": {},
   "source": [
    "### Со строками"
   ]
  },
  {
   "cell_type": "code",
   "execution_count": 372,
   "id": "329210e0-22c8-42e9-a93d-a37c24a2e08f",
   "metadata": {},
   "outputs": [
    {
     "data": {
      "text/plain": [
       "['i', 'am', 'Denis']"
      ]
     },
     "execution_count": 372,
     "metadata": {},
     "output_type": "execute_result"
    }
   ],
   "source": [
    "'i am Denis'.split()"
   ]
  },
  {
   "cell_type": "markdown",
   "id": "ac0ae5c5-ed14-4412-a41b-f83bd0270014",
   "metadata": {},
   "source": [
    "## Range\n",
    "\n",
    "продолжение цикла for"
   ]
  },
  {
   "cell_type": "markdown",
   "id": "162ea875-d4cf-4154-b4a1-ad559d8d459a",
   "metadata": {},
   "source": [
    "range() function generates the immutable sequence (of type rage) of numbers starting from the given start integer to the stop integer\n",
    "\n",
    "`range(start, stop, step)`"
   ]
  },
  {
   "cell_type": "code",
   "execution_count": 415,
   "id": "54d53159-975f-42ec-90c7-68975a4d5f12",
   "metadata": {
    "tags": []
   },
   "outputs": [
    {
     "data": {
      "text/plain": [
       "range(0, 10)"
      ]
     },
     "execution_count": 415,
     "metadata": {},
     "output_type": "execute_result"
    }
   ],
   "source": [
    "range(10)"
   ]
  },
  {
   "cell_type": "code",
   "execution_count": 416,
   "id": "4670534c-3c8b-4f05-90b1-a1a843dfc079",
   "metadata": {
    "tags": []
   },
   "outputs": [
    {
     "data": {
      "text/plain": [
       "[0, 1, 2, 3, 4, 5, 6, 7, 8, 9]"
      ]
     },
     "execution_count": 416,
     "metadata": {},
     "output_type": "execute_result"
    }
   ],
   "source": [
    "list(range(10))"
   ]
  },
  {
   "cell_type": "code",
   "execution_count": 26,
   "id": "486b7e6d-0e6c-44a7-9b3a-cc0de4e645a7",
   "metadata": {
    "tags": []
   },
   "outputs": [
    {
     "data": {
      "text/plain": [
       "[1, 3, 5, 7, 9]"
      ]
     },
     "execution_count": 26,
     "metadata": {},
     "output_type": "execute_result"
    }
   ],
   "source": [
    "list(range(1, 10, 2))"
   ]
  },
  {
   "cell_type": "code",
   "execution_count": 27,
   "id": "4f7877e0",
   "metadata": {},
   "outputs": [],
   "source": [
    "a = [1, 3, 5, 7, 9]"
   ]
  },
  {
   "cell_type": "code",
   "execution_count": 28,
   "id": "3c6a9f19-f405-4700-8885-5e0bd3a49af7",
   "metadata": {
    "tags": []
   },
   "outputs": [
    {
     "name": "stdout",
     "output_type": "stream",
     "text": [
      "1\n",
      "3\n",
      "5\n",
      "7\n",
      "9\n"
     ]
    }
   ],
   "source": [
    "for i in a:\n",
    "    print(i)"
   ]
  },
  {
   "cell_type": "code",
   "execution_count": 425,
   "id": "952bb632-9b5b-409f-8cb5-c8e684fec444",
   "metadata": {},
   "outputs": [
    {
     "name": "stdout",
     "output_type": "stream",
     "text": [
      "0 1\n",
      "1 2\n",
      "2 3\n",
      "3 4\n"
     ]
    }
   ],
   "source": [
    "a = [1, 2, 3, 4]\n",
    "\n",
    "for i in range(len(a)):\n",
    "    print(i, a[i])"
   ]
  },
  {
   "cell_type": "markdown",
   "id": "b5509c2d",
   "metadata": {},
   "source": [
    "## Удалить каждый третий символ"
   ]
  },
  {
   "cell_type": "markdown",
   "id": "ae1a8022",
   "metadata": {},
   "source": [
    "#### Дана строка. Удалите из нее все символы, чьи индексы делятся на 3. Символы строки нумеруются, начиная с нуля."
   ]
  },
  {
   "cell_type": "markdown",
   "id": "ae98b2e2",
   "metadata": {},
   "source": [
    "Формат ввода\\\n",
    "Вводится строка.\n",
    "\n",
    "Формат вывода\\\n",
    "Выведите ответ на задачу."
   ]
  },
  {
   "attachments": {
    "image.png": {
     "image/png": "[encoded data removed]"
    }
   },
   "cell_type": "markdown",
   "id": "b04827c8",
   "metadata": {},
   "source": [
    "![image.png](attachment:image.png)"
   ]
  },
  {
   "cell_type": "code",
   "execution_count": null,
   "id": "ad96d785",
   "metadata": {},
   "outputs": [],
   "source": [
    "s = input()\n",
    "ans = \"\"\n",
    "for i in range(len(s)):\n",
    "    if i % 3 == 0:\n",
    "        ans += s[i]\n",
    "print(ans)"
   ]
  },
  {
   "cell_type": "markdown",
   "id": "1f1a4e63",
   "metadata": {},
   "source": [
    "Разберем простой пример. Если у нас есть два списка, один -- с цветами, второй -- с размерами. Как можно вывести на экран все комбинации?"
   ]
  },
  {
   "cell_type": "code",
   "execution_count": 29,
   "id": "5f2d34ed",
   "metadata": {},
   "outputs": [
    {
     "name": "stdout",
     "output_type": "stream",
     "text": [
      "black S\n",
      "black M\n",
      "black L\n",
      "white S\n",
      "white M\n",
      "white L\n"
     ]
    }
   ],
   "source": [
    "colors = ['black', 'white'] \n",
    "sizes = ['S', 'M', 'L']\n",
    "\n",
    "for i in colors:\n",
    "    for j in sizes:\n",
    "        print(i, j)"
   ]
  }
 ],
 "metadata": {
  "kernelspec": {
   "display_name": "Python 3",
   "language": "python",
   "name": "python3"
  },
  "language_info": {
   "codemirror_mode": {
    "name": "ipython",
    "version": 3
   },
   "file_extension": ".py",
   "mimetype": "text/x-python",
   "name": "python",
   "nbconvert_exporter": "python",
   "pygments_lexer": "ipython3",
   "version": "3.11.5"
  },
  "toc": {
   "base_numbering": 1,
   "nav_menu": {},
   "number_sections": true,
   "sideBar": true,
   "skip_h1_title": false,
   "title_cell": "Table of Contents",
   "title_sidebar": "Contents",
   "toc_cell": false,
   "toc_position": {},
   "toc_section_display": true,
   "toc_window_display": true
  },
  "varInspector": {
   "cols": {
    "lenName": 16,
    "lenType": 16,
    "lenVar": 40
   },
   "kernels_config": {
    "python": {
     "delete_cmd_postfix": "",
     "delete_cmd_prefix": "del ",
     "library": "var_list.py",
     "varRefreshCmd": "print(var_dic_list())"
    },
    "r": {
     "delete_cmd_postfix": ") ",
     "delete_cmd_prefix": "rm(",
     "library": "var_list.r",
     "varRefreshCmd": "cat(var_dic_list()) "
    }
   },
   "types_to_exclude": [
    "module",
    "function",
    "builtin_function_or_method",
    "instance",
    "_Feature"
   ],
   "window_display": false
  }
 },
 "nbformat": 4,
 "nbformat_minor": 5
}

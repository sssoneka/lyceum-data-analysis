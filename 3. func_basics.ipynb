{
 "cells": [
  {
   "cell_type": "markdown",
   "id": "4c83beca-5bd3-4ecb-801d-7b7ada59362f",
   "metadata": {},
   "source": [
    "# Functions"
   ]
  },
  {
   "cell_type": "markdown",
   "id": "2f20e3cd-d190-4303-8e79-f41b78b8b7be",
   "metadata": {},
   "source": [
    "## Базовый синтаксис"
   ]
  },
  {
   "cell_type": "markdown",
   "id": "8565ed53-a8df-4193-a3c1-02e7f4601197",
   "metadata": {},
   "source": [
    "### Аргументы и вызов"
   ]
  },
  {
   "cell_type": "code",
   "execution_count": 8,
   "id": "6b6db521-a5aa-48ae-9c99-fcf535b01dd3",
   "metadata": {
    "ExecuteTime": {
     "end_time": "2022-09-16T08:47:51.689923Z",
     "start_time": "2022-09-16T08:47:51.684737Z"
    }
   },
   "outputs": [
    {
     "name": "stdout",
     "output_type": "stream",
     "text": [
      "Hello, world!\n"
     ]
    }
   ],
   "source": [
    "def func():  # name and function arguments\n",
    "    '''\n",
    "    Doc string to be shown in help\n",
    "    '''\n",
    "    print(\"Hello, world!\") # body\n",
    "\n",
    "func()"
   ]
  },
  {
   "cell_type": "markdown",
   "id": "63e400b7-4f0b-47fa-a4bf-bb710c633fbe",
   "metadata": {},
   "source": [
    "Пример простейшей функции с аргументами"
   ]
  },
  {
   "cell_type": "code",
   "execution_count": 5,
   "id": "848843da-0050-40ad-98c9-ae34a1ea7bb1",
   "metadata": {
    "ExecuteTime": {
     "end_time": "2022-09-16T08:49:48.028879Z",
     "start_time": "2022-09-16T08:49:48.023692Z"
    }
   },
   "outputs": [
    {
     "name": "stdout",
     "output_type": "stream",
     "text": [
      "[1, 2, 4, 5]\n"
     ]
    }
   ],
   "source": [
    "def func(a, b):\n",
    "    print(a + b)\n",
    "\n",
    "func([1, 2], [4, 5])"
   ]
  },
  {
   "cell_type": "markdown",
   "id": "4e617658-c989-4f22-8df1-706c2e4925b2",
   "metadata": {},
   "source": [
    "Аргументы функций могут иметь дефолтные значения"
   ]
  },
  {
   "cell_type": "code",
   "execution_count": 6,
   "id": "ec3fc541-35fb-4e5f-b132-39af640a1db2",
   "metadata": {
    "ExecuteTime": {
     "end_time": "2022-09-16T08:49:54.350693Z",
     "start_time": "2022-09-16T08:49:54.344576Z"
    }
   },
   "outputs": [],
   "source": [
    "def func(a, b='value'):\n",
    "    print(a, b)"
   ]
  },
  {
   "cell_type": "code",
   "execution_count": 8,
   "id": "cd1a9f2d-36b0-4969-a4e3-a588fb97edcd",
   "metadata": {
    "ExecuteTime": {
     "end_time": "2022-09-16T08:50:22.485143Z",
     "start_time": "2022-09-16T08:50:22.478408Z"
    }
   },
   "outputs": [
    {
     "name": "stdout",
     "output_type": "stream",
     "text": [
      "1 value\n"
     ]
    }
   ],
   "source": [
    "func(1)  # value -- дефолтное значение"
   ]
  },
  {
   "cell_type": "markdown",
   "id": "be5e1a11-1320-406d-ac14-20a7dc968ccd",
   "metadata": {},
   "source": [
    "### return"
   ]
  },
  {
   "cell_type": "markdown",
   "id": "bdf11541-2b4b-4b5b-9204-4d49ca82ea56",
   "metadata": {},
   "source": [
    "Функции позволяют объединить код в один логический блок, который можно многократно вызывать.\n",
    "\n",
    "Ключевое слово return используется, чтобы вернуть результат работы функции."
   ]
  },
  {
   "cell_type": "code",
   "execution_count": 7,
   "id": "4a6c39ef-25e5-428e-aa44-d609af5464c8",
   "metadata": {
    "ExecuteTime": {
     "end_time": "2022-09-16T08:54:06.376957Z",
     "start_time": "2022-09-16T08:54:06.372058Z"
    }
   },
   "outputs": [
    {
     "name": "stdout",
     "output_type": "stream",
     "text": [
      "Среднее значение: 25.0\n"
     ]
    }
   ],
   "source": [
    "def average(numbers):\n",
    "    total = sum(numbers)          # находим сумму всех чисел\n",
    "    count = len(numbers)          # считаем количество элементов\n",
    "    result = total / count        # делим сумму на количество\n",
    "    return result                 # возвращаем результат\n",
    "\n",
    "# пример использования\n",
    "values = [10, 20, 30, 40]\n",
    "avg = average(values)\n",
    "print(\"Среднее значение:\", avg)\n"
   ]
  },
  {
   "cell_type": "markdown",
   "id": "3684833f-21d3-4d7b-93fe-e8f464bd2bcd",
   "metadata": {},
   "source": [
    "## Рекурсия"
   ]
  },
  {
   "cell_type": "markdown",
   "id": "306911e8-afd4-4500-8067-26f9f1c4f356",
   "metadata": {},
   "source": [
    "Функция может вызывать саму себя внутри. Классический пример -- вычисление факториала"
   ]
  },
  {
   "cell_type": "code",
   "execution_count": 28,
   "id": "30d62324-eba7-4529-ada6-84802a9f719f",
   "metadata": {
    "ExecuteTime": {
     "end_time": "2022-09-16T08:58:00.103136Z",
     "start_time": "2022-09-16T08:58:00.098060Z"
    }
   },
   "outputs": [],
   "source": [
    "def fact(n):\n",
    "    if n == 0:\n",
    "        return 1  # условие выхода из рекурсии\n",
    "    return n * fact(n - 1)"
   ]
  },
  {
   "cell_type": "code",
   "execution_count": 29,
   "id": "17d1a091-0c24-48bb-8184-5115e0bdbf8d",
   "metadata": {
    "ExecuteTime": {
     "end_time": "2022-09-16T08:58:01.056515Z",
     "start_time": "2022-09-16T08:58:01.047649Z"
    }
   },
   "outputs": [
    {
     "data": {
      "text/plain": [
       "24"
      ]
     },
     "execution_count": 29,
     "metadata": {},
     "output_type": "execute_result"
    }
   ],
   "source": [
    "fact(4)"
   ]
  },
  {
   "cell_type": "code",
   "execution_count": 30,
   "id": "d0c7479a-4db3-44da-9d34-1cb908344744",
   "metadata": {
    "ExecuteTime": {
     "end_time": "2022-09-16T08:58:02.036779Z",
     "start_time": "2022-09-16T08:58:02.027560Z"
    }
   },
   "outputs": [
    {
     "data": {
      "text/plain": [
       "24"
      ]
     },
     "execution_count": 30,
     "metadata": {},
     "output_type": "execute_result"
    }
   ],
   "source": [
    "1 * 2 * 3 * 4"
   ]
  }
 ],
 "metadata": {
  "kernelspec": {
   "display_name": "Python 3",
   "language": "python",
   "name": "python3"
  },
  "language_info": {
   "codemirror_mode": {
    "name": "ipython",
    "version": 3
   },
   "file_extension": ".py",
   "mimetype": "text/x-python",
   "name": "python",
   "nbconvert_exporter": "python",
   "pygments_lexer": "ipython3",
   "version": "3.11.5"
  },
  "toc": {
   "base_numbering": 1,
   "nav_menu": {},
   "number_sections": true,
   "sideBar": true,
   "skip_h1_title": false,
   "title_cell": "Table of Contents",
   "title_sidebar": "Contents",
   "toc_cell": false,
   "toc_position": {},
   "toc_section_display": true,
   "toc_window_display": true
  },
  "varInspector": {
   "cols": {
    "lenName": 16,
    "lenType": 16,
    "lenVar": 40
   },
   "kernels_config": {
    "python": {
     "delete_cmd_postfix": "",
     "delete_cmd_prefix": "del ",
     "library": "var_list.py",
     "varRefreshCmd": "print(var_dic_list())"
    },
    "r": {
     "delete_cmd_postfix": ") ",
     "delete_cmd_prefix": "rm(",
     "library": "var_list.r",
     "varRefreshCmd": "cat(var_dic_list()) "
    }
   },
   "types_to_exclude": [
    "module",
    "function",
    "builtin_function_or_method",
    "instance",
    "_Feature"
   ],
   "window_display": false
  }
 },
 "nbformat": 4,
 "nbformat_minor": 5
}
